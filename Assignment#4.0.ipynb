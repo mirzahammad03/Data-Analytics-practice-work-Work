{
 "cells": [
  {
   "cell_type": "code",
   "execution_count": 1,
   "id": "0c65d68a-cb9f-4d35-a100-0f00c1ded203",
   "metadata": {},
   "outputs": [
    {
     "name": "stdout",
     "output_type": "stream",
     "text": [
      "Dear Saim, I would be honored to have you as a guest for dinner. Please join us!\n",
      "Dear Ammar, I would be honored to have you as a guest for dinner. Please join us!\n",
      "Dear Erass, I would be honored to have you as a guest for dinner. Please join us!\n"
     ]
    }
   ],
   "source": [
    " # invite to dinner\n",
    "guests = [\"Saim\", \"Ammar\", \"Erass\"]\n",
    "\n",
    "# Sending invitation messages\n",
    "for guest in guests:\n",
    "    print(f\"Dear {guest}, I would be honored to have you as a guest for dinner. Please join us!\")"
   ]
  },
  {
   "cell_type": "code",
   "execution_count": 2,
   "id": "abd6c787-f5bd-4e4d-8c8c-6131fa11fefe",
   "metadata": {},
   "outputs": [
    {
     "name": "stdout",
     "output_type": "stream",
     "text": [
      "Unfortunately, Saim can't make it to the dinner.\n",
      "Dear Zain, I would be honored to have you as a guest for dinner. Please join us!\n",
      "Dear Ammar, I would be honored to have you as a guest for dinner. Please join us!\n",
      "Dear Erass, I would be honored to have you as a guest for dinner. Please join us!\n"
     ]
    }
   ],
   "source": [
    "# One guest can't attend\n",
    "guest_unable_to_attend = \"Saim\"\n",
    "print(f\"Unfortunately, {guest_unable_to_attend} can't make it to the dinner.\")\n",
    "\n",
    "# Replace with a new guest\n",
    "guests[0] = \"Zain\"\n",
    "\n",
    "# Sending new invitation messages\n",
    "for guest in guests:\n",
    "    print(f\"Dear {guest}, I would be honored to have you as a guest for dinner. Please join us!\")\n"
   ]
  },
  {
   "cell_type": "code",
   "execution_count": 3,
   "id": "35f492ab-cad6-429a-9c44-5dc3509387fc",
   "metadata": {},
   "outputs": [
    {
     "name": "stdout",
     "output_type": "stream",
     "text": [
      "Good news! We found a bigger dinner table, so we can invite more guests.\n",
      "Dear Uzair, I would be honored to have you as a guest for dinner. Please join us!\n",
      "Dear Zain, I would be honored to have you as a guest for dinner. Please join us!\n",
      "Dear Ammar, I would be honored to have you as a guest for dinner. Please join us!\n",
      "Dear Danish, I would be honored to have you as a guest for dinner. Please join us!\n",
      "Dear Erass, I would be honored to have you as a guest for dinner. Please join us!\n",
      "Dear Faiq, I would be honored to have you as a guest for dinner. Please join us!\n"
     ]
    }
   ],
   "source": [
    "# Found a bigger dinner table\n",
    "print(\"Good news! We found a bigger dinner table, so we can invite more guests.\")\n",
    "\n",
    "# new guests\n",
    "guests.insert(0, \"Uzair\")  \n",
    "guests.insert(3, \"Danish\")  \n",
    "guests.append(\"Faiq\")     \n",
    "\n",
    "# new invitation messages\n",
    "for guest in guests:\n",
    "    print(f\"Dear {guest}, I would be honored to have you as a guest for dinner. Please join us!\")\n"
   ]
  },
  {
   "cell_type": "code",
   "execution_count": 9,
   "id": "ea878f5b-61f2-4abb-a4e4-e92a6566b47f",
   "metadata": {},
   "outputs": [
    {
     "name": "stdout",
     "output_type": "stream",
     "text": [
      "Unfortunately, our new dinner table won't arrive in time, so we can only invite two guests.\n",
      "\n",
      "Dear Saim, I'm sorry we can't invite you to dinner due to limited space.\n",
      "Dear Danish, I'm sorry we can't invite you to dinner due to limited space.\n",
      "Dear Ammar, I'm sorry we can't invite you to dinner due to limited space.\n",
      "Dear Erass, I'm sorry we can't invite you to dinner due to limited space.\n",
      "Dear Uzair, you're still invited to dinner. Looking forward to seeing you!\n",
      "Dear Faiq, you're still invited to dinner. Looking forward to seeing you!\n"
     ]
    }
   ],
   "source": [
    "# Starting Guest list\n",
    "guests = [\"Uzair\", \"Saim\", \"Danish\", \"Ammar\", \"Erass\", \"Faiq\"]\n",
    "\n",
    "# Message limited space\n",
    "print(\"Unfortunately, our new dinner table won't arrive in time, so we can only invite two guests.\\n\")\n",
    "\n",
    "# Removing guests\n",
    "while len(guests) > 2:\n",
    "    removed_guest = guests.pop(1)\n",
    "    print(f\"Dear {removed_guest}, I'm sorry we can't invite you to dinner due to limited space.\")\n",
    "\n",
    "\n",
    "# Final invitations\n",
    "for guest in guests:\n",
    "    print(f\"Dear {guest}, you're still invited to dinner. Looking forward to seeing you!\")\n",
    "\n",
    "\n",
    "\n"
   ]
  },
  {
   "cell_type": "code",
   "execution_count": 5,
   "id": "e0d43a1a-ac81-4190-aae4-871b1592c553",
   "metadata": {},
   "outputs": [
    {
     "name": "stdout",
     "output_type": "stream",
     "text": [
      "Final guest list: []\n"
     ]
    }
   ],
   "source": [
    "# Empty list\n",
    "del guests[:]\n",
    "\n",
    "# Confirmation\n",
    "print(f\"Final guest list: {guests}\") "
   ]
  },
  {
   "cell_type": "code",
   "execution_count": 6,
   "id": "64e077cc-702b-4e69-8467-83d0776cb41c",
   "metadata": {},
   "outputs": [
    {
     "data": {
      "text/plain": [
       "[]"
      ]
     },
     "execution_count": 6,
     "metadata": {},
     "output_type": "execute_result"
    }
   ],
   "source": [
    "guests"
   ]
  },
  {
   "cell_type": "code",
   "execution_count": 7,
   "id": "83745567-125c-4894-abad-3818287a0313",
   "metadata": {},
   "outputs": [
    {
     "name": "stdout",
     "output_type": "stream",
     "text": [
      "First fruits: Apple\n",
      "Last fruits: pears\n",
      "First three fruits: ['Apple', 'Mango', 'Banana']\n",
      "Last three fruits: ['Grapes', 'Kiwi', 'pears']\n",
      "Middle fruits: ['Banana', 'Orange', 'Grapes']\n"
     ]
    }
   ],
   "source": [
    "# Creating a new list\n",
    "fruits = [\"Apple\", \"Mango\", \"Banana\", \"Orange\", \"Grapes\", \"Kiwi\", \"pears\"]\n",
    "\n",
    "# Indexing\n",
    "print(f\"First fruits: {fruits[0]}\")  \n",
    "print(f\"Last fruits: {fruits[-1]}\") \n",
    "\n",
    "# Slicing\n",
    "print(f\"First three fruits: {fruits[:3]}\")  \n",
    "print(f\"Last three fruits: {fruits[-3:]}\")  \n",
    "print(f\"Middle fruits: {fruits[2:5]}\")      \n"
   ]
  }
 ],
 "metadata": {
  "kernelspec": {
   "display_name": "Python 3 (ipykernel)",
   "language": "python",
   "name": "python3"
  },
  "language_info": {
   "codemirror_mode": {
    "name": "ipython",
    "version": 3
   },
   "file_extension": ".py",
   "mimetype": "text/x-python",
   "name": "python",
   "nbconvert_exporter": "python",
   "pygments_lexer": "ipython3",
   "version": "3.12.4"
  }
 },
 "nbformat": 4,
 "nbformat_minor": 5
}
